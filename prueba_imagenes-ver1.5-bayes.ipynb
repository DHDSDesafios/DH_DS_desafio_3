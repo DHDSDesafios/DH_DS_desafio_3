{
 "cells": [
  {
   "cell_type": "code",
   "execution_count": 1,
   "metadata": {},
   "outputs": [
    {
     "name": "stdout",
     "output_type": "stream",
     "text": [
      "Requirement already satisfied: opencv-python in c:\\users\\fernando\\anaconda3\\envs\\dhdsblend\\lib\\site-packages (4.4.0.42)\n",
      "Requirement already satisfied: numpy>=1.14.5 in c:\\users\\fernando\\anaconda3\\envs\\dhdsblend\\lib\\site-packages (from opencv-python) (1.18.1)\n"
     ]
    }
   ],
   "source": [
    "!pip install opencv-python"
   ]
  },
  {
   "cell_type": "markdown",
   "metadata": {},
   "source": [
    "### Importacion de bibliotecas generales"
   ]
  },
  {
   "cell_type": "code",
   "execution_count": 2,
   "metadata": {},
   "outputs": [],
   "source": [
    "import os\n",
    "import sys\n",
    "import re"
   ]
  },
  {
   "cell_type": "code",
   "execution_count": 3,
   "metadata": {},
   "outputs": [],
   "source": [
    "import pandas as pd\n",
    "import numpy as np"
   ]
  },
  {
   "cell_type": "code",
   "execution_count": 4,
   "metadata": {},
   "outputs": [],
   "source": [
    "import cv2\n",
    "import seaborn as sns\n",
    "import matplotlib.pyplot as plt"
   ]
  },
  {
   "cell_type": "markdown",
   "metadata": {},
   "source": [
    "### Importacion de librerias para armado y testeo de modelos"
   ]
  },
  {
   "cell_type": "code",
   "execution_count": 5,
   "metadata": {},
   "outputs": [],
   "source": [
    "# operaciones sobre variables\n",
    "from sklearn.model_selection import train_test_split, cross_val_score, KFold, StratifiedKFold, GridSearchCV\n",
    "from sklearn.metrics import confusion_matrix, classification_report, accuracy_score\n",
    "\n",
    "# modelos de clasificacion\n",
    "from sklearn.linear_model import LogisticRegression\n",
    "from sklearn.neighbors import KNeighborsClassifier\n",
    "\n",
    "# normalizacion de variables\n",
    "from sklearn.preprocessing import StandardScaler"
   ]
  },
  {
   "cell_type": "markdown",
   "metadata": {},
   "source": [
    "### Variables globales"
   ]
  },
  {
   "cell_type": "code",
   "execution_count": 6,
   "metadata": {},
   "outputs": [],
   "source": [
    "# path relativo al repositorio de imagenes\n",
    "this_path = os.path.dirname('.')\n",
    "rel_dataset_path = 'data/Covid19-dataset_completo/'\n",
    "\n",
    "# path absoluto al repositorio de imagenes\n",
    "abs_dataset_path = os.path.abspath(os.path.join(this_path, rel_dataset_path))\n",
    "\n",
    "# path absoluto a dataset de training y a dataset testing\n",
    "# photos1\n",
    "photos1_dataset_path = os.path.join(abs_dataset_path, \"photos1\")\n",
    "# photos2\n",
    "photos2_dataset_path = os.path.join(abs_dataset_path, \"photos2\")\n",
    "# photos3\n",
    "photos3_dataset_path = os.path.join(abs_dataset_path, \"photos3\")\n",
    "\n",
    "# expresion regular para buscar solamente imagenes\n",
    "pat = '(jpeg|jpg|png)$'\n",
    "reg = re.compile(pat, flags = re.IGNORECASE)"
   ]
  },
  {
   "cell_type": "code",
   "execution_count": 7,
   "metadata": {},
   "outputs": [],
   "source": [
    "path_label = [path for path in os.listdir(photos1_dataset_path)]"
   ]
  },
  {
   "cell_type": "code",
   "execution_count": 8,
   "metadata": {},
   "outputs": [
    {
     "name": "stdout",
     "output_type": "stream",
     "text": [
      "['Covid', 'Normal', 'Viral Pneumonia']\n"
     ]
    }
   ],
   "source": [
    "print(path_label)"
   ]
  },
  {
   "cell_type": "markdown",
   "metadata": {},
   "source": [
    "## Parametros de imagen ajustados\n",
    "\n",
    "Analisis segun las siguientes condiciones:\n",
    "    \n",
    "    * dimesiones 100 x 100 (10000 pixeles).\n",
    "    * en escala de grises"
   ]
  },
  {
   "cell_type": "code",
   "execution_count": 9,
   "metadata": {},
   "outputs": [],
   "source": [
    "def new_dataset(dataset_path):\n",
    "    '''\n",
    "    creacion de nuevo dataset a partir de repositorio de imagenes\n",
    "    dataset_path: ruta absoluta donde se encuentran las imagenes, test o train\n",
    "    salida: tupla con:\n",
    "        * matriz de dos dimensiones con mapa de bits de cada imagen (cada registro o lista de una dimension es una imagen) - Feature\n",
    "        * lista de una dimension con valores numericos que representan la clase a la que pertenece la imagen - Target\n",
    "        * lista de una dimension con las etiquetas de clase a la que pertenece cada imagen\n",
    "    '''\n",
    "    imgs_label = []\n",
    "    imgs = []\n",
    "    for pathlabel in os.listdir(dataset_path):\n",
    "        label = os.path.join(dataset_path, pathlabel)\n",
    "        for file in os.listdir(label):\n",
    "            if re.search(pat, file) is not None:\n",
    "                img = cv2.imread(os.path.join(label, file), cv2.IMREAD_COLOR)\n",
    "                img = cv2.cvtColor(img, cv2.COLOR_BGR2GRAY)\n",
    "                img = cv2.resize(img, (100,100))\n",
    "                img = img.flatten()\n",
    "                imgs.append(img)\n",
    "                imgs_label.append(pathlabel)\n",
    "                \n",
    "    label_to_id_dict = {v:i for i,v in enumerate(np.unique(imgs_label))}\n",
    "    label_ids = np.array([label_to_id_dict[x] for x in imgs_label])\n",
    "    \n",
    "    return np.array(imgs), label_ids, np.array(imgs_label)"
   ]
  },
  {
   "cell_type": "markdown",
   "metadata": {},
   "source": [
    "---"
   ]
  },
  {
   "cell_type": "markdown",
   "metadata": {},
   "source": [
    "## Features y target como objetos de pandas"
   ]
  },
  {
   "cell_type": "markdown",
   "metadata": {},
   "source": [
    "### Preparacion del dataset\n",
    "\n",
    "Unificacion de set de train y testing para aplicar una estrategia de separacion a traves de los metodos de scikit learn. Se busca mantener la proporcionalidad de la clases de la variable target."
   ]
  },
  {
   "cell_type": "code",
   "execution_count": 10,
   "metadata": {},
   "outputs": [],
   "source": [
    "photos1_X, photos1_y, photos1_labels = new_dataset(photos1_dataset_path)\n",
    "photos2_X, photos2_y, photos2_labels = new_dataset(photos2_dataset_path)\n",
    "photos3_X, photos3_y, photos3_labels = new_dataset(photos3_dataset_path)"
   ]
  },
  {
   "cell_type": "code",
   "execution_count": 11,
   "metadata": {},
   "outputs": [],
   "source": [
    "numpy_append = np.append(photos1_X, photos2_X, axis=0)\n",
    "data_features = pd.DataFrame(np.append(numpy_append, photos3_X, axis=0))"
   ]
  },
  {
   "cell_type": "code",
   "execution_count": 12,
   "metadata": {},
   "outputs": [
    {
     "data": {
      "text/html": [
       "<div>\n",
       "<style scoped>\n",
       "    .dataframe tbody tr th:only-of-type {\n",
       "        vertical-align: middle;\n",
       "    }\n",
       "\n",
       "    .dataframe tbody tr th {\n",
       "        vertical-align: top;\n",
       "    }\n",
       "\n",
       "    .dataframe thead th {\n",
       "        text-align: right;\n",
       "    }\n",
       "</style>\n",
       "<table border=\"1\" class=\"dataframe\">\n",
       "  <thead>\n",
       "    <tr style=\"text-align: right;\">\n",
       "      <th></th>\n",
       "      <th>0</th>\n",
       "      <th>1</th>\n",
       "      <th>2</th>\n",
       "      <th>3</th>\n",
       "      <th>4</th>\n",
       "      <th>5</th>\n",
       "      <th>6</th>\n",
       "      <th>7</th>\n",
       "      <th>8</th>\n",
       "      <th>9</th>\n",
       "      <th>...</th>\n",
       "      <th>9990</th>\n",
       "      <th>9991</th>\n",
       "      <th>9992</th>\n",
       "      <th>9993</th>\n",
       "      <th>9994</th>\n",
       "      <th>9995</th>\n",
       "      <th>9996</th>\n",
       "      <th>9997</th>\n",
       "      <th>9998</th>\n",
       "      <th>9999</th>\n",
       "    </tr>\n",
       "  </thead>\n",
       "  <tbody>\n",
       "    <tr>\n",
       "      <th>0</th>\n",
       "      <td>203</td>\n",
       "      <td>187</td>\n",
       "      <td>180</td>\n",
       "      <td>169</td>\n",
       "      <td>171</td>\n",
       "      <td>167</td>\n",
       "      <td>161</td>\n",
       "      <td>163</td>\n",
       "      <td>159</td>\n",
       "      <td>154</td>\n",
       "      <td>...</td>\n",
       "      <td>97</td>\n",
       "      <td>101</td>\n",
       "      <td>119</td>\n",
       "      <td>86</td>\n",
       "      <td>79</td>\n",
       "      <td>63</td>\n",
       "      <td>31</td>\n",
       "      <td>13</td>\n",
       "      <td>9</td>\n",
       "      <td>7</td>\n",
       "    </tr>\n",
       "    <tr>\n",
       "      <th>1</th>\n",
       "      <td>0</td>\n",
       "      <td>0</td>\n",
       "      <td>0</td>\n",
       "      <td>0</td>\n",
       "      <td>0</td>\n",
       "      <td>0</td>\n",
       "      <td>0</td>\n",
       "      <td>0</td>\n",
       "      <td>0</td>\n",
       "      <td>0</td>\n",
       "      <td>...</td>\n",
       "      <td>231</td>\n",
       "      <td>228</td>\n",
       "      <td>228</td>\n",
       "      <td>216</td>\n",
       "      <td>210</td>\n",
       "      <td>212</td>\n",
       "      <td>202</td>\n",
       "      <td>192</td>\n",
       "      <td>168</td>\n",
       "      <td>125</td>\n",
       "    </tr>\n",
       "    <tr>\n",
       "      <th>2</th>\n",
       "      <td>7</td>\n",
       "      <td>8</td>\n",
       "      <td>8</td>\n",
       "      <td>8</td>\n",
       "      <td>7</td>\n",
       "      <td>7</td>\n",
       "      <td>7</td>\n",
       "      <td>6</td>\n",
       "      <td>6</td>\n",
       "      <td>5</td>\n",
       "      <td>...</td>\n",
       "      <td>36</td>\n",
       "      <td>28</td>\n",
       "      <td>2</td>\n",
       "      <td>2</td>\n",
       "      <td>5</td>\n",
       "      <td>8</td>\n",
       "      <td>10</td>\n",
       "      <td>11</td>\n",
       "      <td>12</td>\n",
       "      <td>30</td>\n",
       "    </tr>\n",
       "    <tr>\n",
       "      <th>3</th>\n",
       "      <td>169</td>\n",
       "      <td>169</td>\n",
       "      <td>167</td>\n",
       "      <td>171</td>\n",
       "      <td>173</td>\n",
       "      <td>169</td>\n",
       "      <td>154</td>\n",
       "      <td>56</td>\n",
       "      <td>18</td>\n",
       "      <td>68</td>\n",
       "      <td>...</td>\n",
       "      <td>140</td>\n",
       "      <td>132</td>\n",
       "      <td>128</td>\n",
       "      <td>120</td>\n",
       "      <td>102</td>\n",
       "      <td>95</td>\n",
       "      <td>92</td>\n",
       "      <td>81</td>\n",
       "      <td>78</td>\n",
       "      <td>70</td>\n",
       "    </tr>\n",
       "    <tr>\n",
       "      <th>4</th>\n",
       "      <td>143</td>\n",
       "      <td>144</td>\n",
       "      <td>144</td>\n",
       "      <td>144</td>\n",
       "      <td>144</td>\n",
       "      <td>148</td>\n",
       "      <td>10</td>\n",
       "      <td>3</td>\n",
       "      <td>3</td>\n",
       "      <td>4</td>\n",
       "      <td>...</td>\n",
       "      <td>29</td>\n",
       "      <td>28</td>\n",
       "      <td>24</td>\n",
       "      <td>21</td>\n",
       "      <td>18</td>\n",
       "      <td>18</td>\n",
       "      <td>14</td>\n",
       "      <td>14</td>\n",
       "      <td>14</td>\n",
       "      <td>15</td>\n",
       "    </tr>\n",
       "    <tr>\n",
       "      <th>...</th>\n",
       "      <td>...</td>\n",
       "      <td>...</td>\n",
       "      <td>...</td>\n",
       "      <td>...</td>\n",
       "      <td>...</td>\n",
       "      <td>...</td>\n",
       "      <td>...</td>\n",
       "      <td>...</td>\n",
       "      <td>...</td>\n",
       "      <td>...</td>\n",
       "      <td>...</td>\n",
       "      <td>...</td>\n",
       "      <td>...</td>\n",
       "      <td>...</td>\n",
       "      <td>...</td>\n",
       "      <td>...</td>\n",
       "      <td>...</td>\n",
       "      <td>...</td>\n",
       "      <td>...</td>\n",
       "      <td>...</td>\n",
       "      <td>...</td>\n",
       "    </tr>\n",
       "    <tr>\n",
       "      <th>665</th>\n",
       "      <td>5</td>\n",
       "      <td>5</td>\n",
       "      <td>4</td>\n",
       "      <td>5</td>\n",
       "      <td>4</td>\n",
       "      <td>4</td>\n",
       "      <td>2</td>\n",
       "      <td>0</td>\n",
       "      <td>0</td>\n",
       "      <td>0</td>\n",
       "      <td>...</td>\n",
       "      <td>14</td>\n",
       "      <td>0</td>\n",
       "      <td>0</td>\n",
       "      <td>0</td>\n",
       "      <td>0</td>\n",
       "      <td>0</td>\n",
       "      <td>0</td>\n",
       "      <td>0</td>\n",
       "      <td>0</td>\n",
       "      <td>0</td>\n",
       "    </tr>\n",
       "    <tr>\n",
       "      <th>666</th>\n",
       "      <td>45</td>\n",
       "      <td>42</td>\n",
       "      <td>39</td>\n",
       "      <td>36</td>\n",
       "      <td>32</td>\n",
       "      <td>24</td>\n",
       "      <td>18</td>\n",
       "      <td>19</td>\n",
       "      <td>27</td>\n",
       "      <td>43</td>\n",
       "      <td>...</td>\n",
       "      <td>18</td>\n",
       "      <td>14</td>\n",
       "      <td>42</td>\n",
       "      <td>44</td>\n",
       "      <td>46</td>\n",
       "      <td>22</td>\n",
       "      <td>20</td>\n",
       "      <td>20</td>\n",
       "      <td>21</td>\n",
       "      <td>21</td>\n",
       "    </tr>\n",
       "    <tr>\n",
       "      <th>667</th>\n",
       "      <td>0</td>\n",
       "      <td>0</td>\n",
       "      <td>0</td>\n",
       "      <td>0</td>\n",
       "      <td>0</td>\n",
       "      <td>0</td>\n",
       "      <td>7</td>\n",
       "      <td>17</td>\n",
       "      <td>32</td>\n",
       "      <td>51</td>\n",
       "      <td>...</td>\n",
       "      <td>121</td>\n",
       "      <td>94</td>\n",
       "      <td>32</td>\n",
       "      <td>9</td>\n",
       "      <td>0</td>\n",
       "      <td>0</td>\n",
       "      <td>0</td>\n",
       "      <td>0</td>\n",
       "      <td>0</td>\n",
       "      <td>0</td>\n",
       "    </tr>\n",
       "    <tr>\n",
       "      <th>668</th>\n",
       "      <td>0</td>\n",
       "      <td>0</td>\n",
       "      <td>0</td>\n",
       "      <td>6</td>\n",
       "      <td>13</td>\n",
       "      <td>50</td>\n",
       "      <td>68</td>\n",
       "      <td>81</td>\n",
       "      <td>92</td>\n",
       "      <td>94</td>\n",
       "      <td>...</td>\n",
       "      <td>185</td>\n",
       "      <td>181</td>\n",
       "      <td>134</td>\n",
       "      <td>105</td>\n",
       "      <td>51</td>\n",
       "      <td>0</td>\n",
       "      <td>0</td>\n",
       "      <td>0</td>\n",
       "      <td>0</td>\n",
       "      <td>0</td>\n",
       "    </tr>\n",
       "    <tr>\n",
       "      <th>669</th>\n",
       "      <td>0</td>\n",
       "      <td>0</td>\n",
       "      <td>0</td>\n",
       "      <td>0</td>\n",
       "      <td>0</td>\n",
       "      <td>0</td>\n",
       "      <td>4</td>\n",
       "      <td>6</td>\n",
       "      <td>14</td>\n",
       "      <td>29</td>\n",
       "      <td>...</td>\n",
       "      <td>22</td>\n",
       "      <td>1</td>\n",
       "      <td>0</td>\n",
       "      <td>0</td>\n",
       "      <td>0</td>\n",
       "      <td>0</td>\n",
       "      <td>0</td>\n",
       "      <td>0</td>\n",
       "      <td>0</td>\n",
       "      <td>0</td>\n",
       "    </tr>\n",
       "  </tbody>\n",
       "</table>\n",
       "<p>670 rows × 10000 columns</p>\n",
       "</div>"
      ],
      "text/plain": [
       "     0     1     2     3     4     5     6     7     8     9     ...  9990  \\\n",
       "0     203   187   180   169   171   167   161   163   159   154  ...    97   \n",
       "1       0     0     0     0     0     0     0     0     0     0  ...   231   \n",
       "2       7     8     8     8     7     7     7     6     6     5  ...    36   \n",
       "3     169   169   167   171   173   169   154    56    18    68  ...   140   \n",
       "4     143   144   144   144   144   148    10     3     3     4  ...    29   \n",
       "..    ...   ...   ...   ...   ...   ...   ...   ...   ...   ...  ...   ...   \n",
       "665     5     5     4     5     4     4     2     0     0     0  ...    14   \n",
       "666    45    42    39    36    32    24    18    19    27    43  ...    18   \n",
       "667     0     0     0     0     0     0     7    17    32    51  ...   121   \n",
       "668     0     0     0     6    13    50    68    81    92    94  ...   185   \n",
       "669     0     0     0     0     0     0     4     6    14    29  ...    22   \n",
       "\n",
       "     9991  9992  9993  9994  9995  9996  9997  9998  9999  \n",
       "0     101   119    86    79    63    31    13     9     7  \n",
       "1     228   228   216   210   212   202   192   168   125  \n",
       "2      28     2     2     5     8    10    11    12    30  \n",
       "3     132   128   120   102    95    92    81    78    70  \n",
       "4      28    24    21    18    18    14    14    14    15  \n",
       "..    ...   ...   ...   ...   ...   ...   ...   ...   ...  \n",
       "665     0     0     0     0     0     0     0     0     0  \n",
       "666    14    42    44    46    22    20    20    21    21  \n",
       "667    94    32     9     0     0     0     0     0     0  \n",
       "668   181   134   105    51     0     0     0     0     0  \n",
       "669     1     0     0     0     0     0     0     0     0  \n",
       "\n",
       "[670 rows x 10000 columns]"
      ]
     },
     "execution_count": 12,
     "metadata": {},
     "output_type": "execute_result"
    }
   ],
   "source": [
    "data_features"
   ]
  },
  {
   "cell_type": "code",
   "execution_count": 13,
   "metadata": {},
   "outputs": [],
   "source": [
    "numpy_append = np.append(photos1_y, photos2_y, axis=0)\n",
    "data_target = pd.Series(np.append(numpy_append, photos3_y, axis=0))"
   ]
  },
  {
   "cell_type": "code",
   "execution_count": 14,
   "metadata": {},
   "outputs": [
    {
     "data": {
      "text/plain": [
       "((670, 10000), (670,))"
      ]
     },
     "execution_count": 14,
     "metadata": {},
     "output_type": "execute_result"
    }
   ],
   "source": [
    "data_features.shape, data_target.shape"
   ]
  },
  {
   "cell_type": "markdown",
   "metadata": {},
   "source": [
    "**Armado de sets de test y train**"
   ]
  },
  {
   "cell_type": "code",
   "execution_count": 19,
   "metadata": {},
   "outputs": [],
   "source": [
    "X_train, X_test, y_train, y_test = train_test_split(data_features, data_target, stratify=data_target, random_state=0)"
   ]
  },
  {
   "cell_type": "code",
   "execution_count": 20,
   "metadata": {},
   "outputs": [
    {
     "data": {
      "text/plain": [
       "((502, 10000), (168, 10000), (502,), (168,))"
      ]
     },
     "execution_count": 20,
     "metadata": {},
     "output_type": "execute_result"
    }
   ],
   "source": [
    "X_train.shape, X_test.shape, y_train.shape, y_test.shape"
   ]
  },
  {
   "cell_type": "code",
   "execution_count": 21,
   "metadata": {},
   "outputs": [
    {
     "data": {
      "text/plain": [
       "1    0.344622\n",
       "0    0.342629\n",
       "2    0.312749\n",
       "dtype: float64"
      ]
     },
     "execution_count": 21,
     "metadata": {},
     "output_type": "execute_result"
    }
   ],
   "source": [
    "y_train.value_counts(normalize=True)"
   ]
  },
  {
   "cell_type": "code",
   "execution_count": 22,
   "metadata": {},
   "outputs": [
    {
     "data": {
      "text/plain": [
       "1    0.345238\n",
       "0    0.339286\n",
       "2    0.315476\n",
       "dtype: float64"
      ]
     },
     "execution_count": 22,
     "metadata": {},
     "output_type": "execute_result"
    }
   ],
   "source": [
    "y_test.value_counts(normalize=True)"
   ]
  },
  {
   "cell_type": "markdown",
   "metadata": {},
   "source": [
    "---"
   ]
  },
  {
   "cell_type": "markdown",
   "metadata": {},
   "source": [
    "**Estandarizamos**\n",
    "\n",
    "Utilizamos sklearn para standarizar la matriz de Features"
   ]
  },
  {
   "cell_type": "code",
   "execution_count": 40,
   "metadata": {},
   "outputs": [],
   "source": [
    "scaler = StandardScaler()\n",
    "X_train = scaler.fit_transform(X_train)\n",
    "X_test = scaler.transform(X_test)"
   ]
  },
  {
   "cell_type": "markdown",
   "metadata": {},
   "source": [
    "**Training**\n",
    "\n",
    "Instanciemos y entrenemos uno modelo naive bayes gaussiano."
   ]
  },
  {
   "cell_type": "code",
   "execution_count": 41,
   "metadata": {},
   "outputs": [],
   "source": [
    "from sklearn.model_selection import train_test_split\n",
    "from sklearn.preprocessing import OneHotEncoder \n",
    "from sklearn.preprocessing import RobustScaler\n",
    "from sklearn.naive_bayes import GaussianNB\n",
    "from sklearn.metrics import accuracy_score\n",
    "from sklearn.metrics import confusion_matrix"
   ]
  },
  {
   "cell_type": "code",
   "execution_count": 42,
   "metadata": {},
   "outputs": [
    {
     "data": {
      "text/plain": [
       "GaussianNB(priors=None, var_smoothing=1e-09)"
      ]
     },
     "execution_count": 42,
     "metadata": {},
     "output_type": "execute_result"
    }
   ],
   "source": [
    "gnb = GaussianNB()\n",
    "\n",
    "gnb.fit(X_train, y_train)"
   ]
  },
  {
   "cell_type": "markdown",
   "metadata": {},
   "source": [
    "**Predict**\n",
    "\n",
    "Usemos el modelo entrenado en el ejercicio 2 para predecir la etiqueta de los datos de test"
   ]
  },
  {
   "cell_type": "code",
   "execution_count": 43,
   "metadata": {},
   "outputs": [
    {
     "data": {
      "text/plain": [
       "array([1, 0, 0, 0, 0, 1, 0, 0, 0, 2, 1, 2, 0, 2, 0, 2, 1, 2, 0, 2, 0, 1,\n",
       "       1, 0, 0, 2, 1, 2, 2, 1, 1, 2, 0, 2, 0, 2, 2, 0, 1, 0, 0, 0, 2, 1,\n",
       "       1, 2, 1, 2, 2, 0, 0, 0, 0, 2, 1, 2, 1, 0, 2, 2, 1, 1, 0, 1, 2, 2,\n",
       "       1, 1, 1, 0, 2, 1, 1, 2, 2, 2, 1, 1, 0, 0, 0, 0, 2, 1, 2, 2, 2, 2,\n",
       "       0, 1, 1, 1, 0, 0, 1, 1, 1, 0, 0, 1, 1, 1, 0, 1, 1, 0, 1, 1, 2, 1,\n",
       "       2, 0, 0, 1, 2, 2, 1, 2, 0, 0, 1, 2, 1, 1, 1, 1, 1, 2, 2, 2, 2, 0,\n",
       "       0, 0, 2, 1, 0, 0, 2, 0, 2, 2, 1, 0, 2, 1, 1, 2, 2, 2, 2, 2, 0, 0,\n",
       "       2, 2, 1, 0, 0, 2, 2, 1, 2, 0, 2, 0, 1, 1])"
      ]
     },
     "execution_count": 43,
     "metadata": {},
     "output_type": "execute_result"
    }
   ],
   "source": [
    "Y_pred = gnb.predict(X_test)\n",
    "\n",
    "Y_pred"
   ]
  },
  {
   "cell_type": "markdown",
   "metadata": {},
   "source": [
    "Calculemos la matriz de confusión sobre los datos de test y grafiquemos el heatmap de esta matriz."
   ]
  },
  {
   "cell_type": "code",
   "execution_count": 45,
   "metadata": {},
   "outputs": [
    {
     "data": {
      "text/plain": [
       "array([[51,  5,  1],\n",
       "       [ 1, 46, 11],\n",
       "       [ 2,  5, 46]], dtype=int64)"
      ]
     },
     "execution_count": 45,
     "metadata": {},
     "output_type": "execute_result"
    }
   ],
   "source": [
    "# Obtenemos la matriz de confusión\n",
    "from sklearn.metrics import confusion_matrix\n",
    "cm = confusion_matrix(y_test, Y_pred)\n",
    "cm"
   ]
  },
  {
   "cell_type": "code",
   "execution_count": 38,
   "metadata": {},
   "outputs": [
    {
     "data": {
      "image/png": "[encoded data removed]",
      "text/plain": [
       "<Figure size 432x288 with 2 Axes>"
      ]
     },
     "metadata": {
      "needs_background": "light"
     },
     "output_type": "display_data"
    }
   ],
   "source": [
    "# Graficamos la matriz de confusión para visualizarla mejor\n",
    "sns.heatmap(cm, annot=True)\n",
    "plt.ylabel('Etiquetas reales')\n",
    "plt.xlabel('Etiquetas predichas');"
   ]
  },
  {
   "cell_type": "markdown",
   "metadata": {},
   "source": [
    "**Interpretacion de la matriz de confusión:**\n",
    "\n",
    "Recordemos:\n",
    "* 0 - Corresponde a los enfermos con COVID\n",
    "* 1 - Corresponde a los pacientes saludables\n",
    "* 2 - Corresponde a los enfermos con Neumonía\n",
    "\n",
    "Siendo los casos positivos los que 'pacientes sanos'.  El mayor riesgo corresponde al falso positivo donde se predijo que estaba sano mientras estaba enfermo.\n"
   ]
  },
  {
   "cell_type": "markdown",
   "metadata": {},
   "source": [
    "**Evaluación del modelo**\n",
    "\n",
    "Asigamos variable a la matriz de confusión"
   ]
  },
  {
   "cell_type": "code",
   "execution_count": 50,
   "metadata": {},
   "outputs": [],
   "source": [
    "TP = cm [2, 2]  # hemos predicho correctamente que el paciente está sano\n",
    "TN = cm [0, 0]+cm [2, 2] # hemos predicho correctamente que el paciente está enfermo\n",
    "FP = cm [0, 1]+cm [2, 1]+cm [0, 2] # hemos predicho que le paciente esta sano pero esta enfermo o confundido la enfermedad\n",
    "FN = cm [1, 0]+cm [1, 2]+cm [2, 0] # hemos predicho que le paciente esta enfermo pero esta sano o confundido la enfermedad"
   ]
  },
  {
   "cell_type": "markdown",
   "metadata": {},
   "source": [
    "**Accuracy**\n",
    "\n",
    "(TP + TN) / (TP + TN + FP + FN)"
   ]
  },
  {
   "cell_type": "code",
   "execution_count": 63,
   "metadata": {},
   "outputs": [
    {
     "name": "stdout",
     "output_type": "stream",
     "text": [
      "Accuracy= 85.0 %\n"
     ]
    }
   ],
   "source": [
    "from sklearn.metrics import accuracy_score\n",
    "print('Accuracy=', accuracy_score(y_test, Y_pred).round(2)*100,'%')"
   ]
  },
  {
   "cell_type": "markdown",
   "metadata": {},
   "source": [
    "*Conclusión:*  el 85% (aprox.) de los casos —en el test set— han sido clasificados correctamente."
   ]
  },
  {
   "cell_type": "markdown",
   "metadata": {},
   "source": [
    "**Sensitivity (o recall)**\n",
    "\n",
    "TP / TP + FN"
   ]
  },
  {
   "cell_type": "code",
   "execution_count": 93,
   "metadata": {},
   "outputs": [
    {
     "name": "stdout",
     "output_type": "stream",
     "text": [
      "recall= 77.0 %\n"
     ]
    }
   ],
   "source": [
    "\n",
    "recall = (TP / (TP + FN))\n",
    "print('recall=', (TP / (TP + FN)).round(2)*100,'%')"
   ]
  },
  {
   "cell_type": "markdown",
   "metadata": {},
   "source": [
    "*Conclusión:*  nuestro modelo está teniendo un alto rendimiento para detectar pacientes sanos en relación a las que realmente estan sanos."
   ]
  },
  {
   "cell_type": "markdown",
   "metadata": {},
   "source": [
    "**Specificity**\n",
    "\n",
    "TN / (TN + FP)"
   ]
  },
  {
   "cell_type": "code",
   "execution_count": 70,
   "metadata": {},
   "outputs": [
    {
     "name": "stdout",
     "output_type": "stream",
     "text": [
      "Specificity= 90.0 %\n"
     ]
    }
   ],
   "source": [
    "print('Specificity=', (TN / (TN + FP)).round(2)*100,'%')"
   ]
  },
  {
   "cell_type": "markdown",
   "metadata": {},
   "source": [
    "*Conclusión:*  nuesto modelo es muy específico, cometió pocos errores de falsos positivos (es decir que pocas veces dijo que un paciente estaba sano, cuando en realidad estaba enfermo)."
   ]
  },
  {
   "cell_type": "markdown",
   "metadata": {},
   "source": [
    "**Precision**\n",
    "\n",
    "TP / (TP + FP)"
   ]
  },
  {
   "cell_type": "code",
   "execution_count": 92,
   "metadata": {},
   "outputs": [
    {
     "name": "stdout",
     "output_type": "stream",
     "text": [
      "Precision= 81.0 %\n"
     ]
    }
   ],
   "source": [
    "Precision = (TP / (TP + FP))\n",
    "print('Precision=', (TP / (TP + FP)).round(2)*100,'%')\n"
   ]
  },
  {
   "cell_type": "markdown",
   "metadata": {},
   "source": [
    "*Conclusión:*  Que nuestro modelo es muy preciso. De cada 100 predicciones positivas que realiza el modelo (es decir, predice que un paciente este sano), acierta 81."
   ]
  },
  {
   "cell_type": "markdown",
   "metadata": {},
   "source": [
    "**False positive rate (FPR)**\n",
    "\n",
    "(1 - Specificity)"
   ]
  },
  {
   "cell_type": "code",
   "execution_count": 79,
   "metadata": {},
   "outputs": [
    {
     "name": "stdout",
     "output_type": "stream",
     "text": [
      "FPR= 10.0 %\n"
     ]
    }
   ],
   "source": [
    "print('FPR=', 100-((TN / (TN + FP))).round(2)*100,'%')"
   ]
  },
  {
   "cell_type": "markdown",
   "metadata": {},
   "source": [
    "### **Conclusión:**  OJO!! Parece que el indicar es bajo, pero por el caso de negocio se está arriesgando un 10% de vidas.  En el 10% de los casos los clasifica como sanos cuando estan enfermos."
   ]
  },
  {
   "cell_type": "markdown",
   "metadata": {},
   "source": [
    "**F1-Score**\n",
    "\n",
    "2*(precision * Recall) / precision + Recall"
   ]
  },
  {
   "cell_type": "code",
   "execution_count": 98,
   "metadata": {},
   "outputs": [
    {
     "name": "stdout",
     "output_type": "stream",
     "text": [
      "F1-Score= 78.0 %\n"
     ]
    }
   ],
   "source": [
    "print ('F1-Score=', 2*((Precision * recall) / (Precision + recall)).round(2)*100,'%')"
   ]
  },
  {
   "cell_type": "markdown",
   "metadata": {},
   "source": [
    "*Conclusión:*  alto valor de f1_score.  Es decir, es bueno identificando las clases positivas, y preciso.  Aunque por el caso de negocio NO lo suficente"
   ]
  },
  {
   "cell_type": "code",
   "execution_count": null,
   "metadata": {},
   "outputs": [],
   "source": []
  }
 ],
 "metadata": {
  "kernelspec": {
   "display_name": "Python 3",
   "language": "python",
   "name": "python3"
  },
  "language_info": {
   "codemirror_mode": {
    "name": "ipython",
    "version": 3
   },
   "file_extension": ".py",
   "mimetype": "text/x-python",
   "name": "python",
   "nbconvert_exporter": "python",
   "pygments_lexer": "ipython3",
   "version": "3.7.7"
  }
 },
 "nbformat": 4,
 "nbformat_minor": 4
}
